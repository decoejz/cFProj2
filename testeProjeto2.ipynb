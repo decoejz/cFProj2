{
 "cells": [
  {
   "cell_type": "code",
   "execution_count": 77,
   "metadata": {},
   "outputs": [],
   "source": [
    "from signalTeste import *\n",
    "import numpy as np\n",
    "import sounddevice as sd\n",
    "import matplotlib.pyplot as plt\n",
    "#import wave\n",
    "import time\n",
    "#import pickle\n",
    "import peakutils\n",
    "\n",
    "%matplotlib inline"
   ]
  },
  {
   "cell_type": "code",
   "execution_count": 66,
   "metadata": {},
   "outputs": [],
   "source": [
    "fs = 10000\n",
    "duration = 5  # seconds\n",
    "myrecording = sd.rec(int(duration * fs), samplerate=fs, channels=2)\n"
   ]
  },
  {
   "cell_type": "code",
   "execution_count": 67,
   "metadata": {},
   "outputs": [
    {
     "name": "stdout",
     "output_type": "stream",
     "text": [
      "[[  0.00000000e+00   0.00000000e+00]\n",
      " [ -3.05175781e-05   0.00000000e+00]\n",
      " [  0.00000000e+00   0.00000000e+00]\n",
      " ..., \n",
      " [ -1.11592021e-18  -1.22662425e+00]\n",
      " [  1.38665686e+03  -1.22685850e+00]\n",
      " [ -1.32321559e+29  -1.22671592e+00]]\n"
     ]
    }
   ],
   "source": [
    "print(myrecording)"
   ]
  },
  {
   "cell_type": "code",
   "execution_count": 68,
   "metadata": {
    "collapsed": true
   },
   "outputs": [],
   "source": [
    "sd.play(myrecording, fs)"
   ]
  },
  {
   "cell_type": "code",
   "execution_count": 69,
   "metadata": {},
   "outputs": [],
   "source": [
    "sig = signalMeu()\n",
    "freq1 = 1209\n",
    "freq2 = 1336\n",
    "freq3 = 1477\n",
    "freq4 = 697\n",
    "freq5 = 770\n",
    "freq6 = 852\n",
    "amplitude = 0.5\n",
    "time = 2\n",
    "x, sinal1 = sig.generateSin(freq1, amplitude, time, fs)\n",
    "x, sinal2 = sig.generateSin(freq4, amplitude, time, fs)\n",
    "sinal = sinal1 + sinal2"
   ]
  },
  {
   "cell_type": "code",
   "execution_count": 70,
   "metadata": {},
   "outputs": [
    {
     "name": "stdout",
     "output_type": "stream",
     "text": [
      "[  0.00000000e+00   5.56389355e-01   8.83404861e-01 ...,  -8.83404861e-01\n",
      "  -5.56389355e-01   2.86339940e-13]\n"
     ]
    }
   ],
   "source": [
    "print(sinal)"
   ]
  },
  {
   "cell_type": "code",
   "execution_count": 71,
   "metadata": {
    "collapsed": true
   },
   "outputs": [],
   "source": [
    "sd.play(sinal, fs)"
   ]
  },
  {
   "cell_type": "code",
   "execution_count": 72,
   "metadata": {
    "collapsed": true
   },
   "outputs": [],
   "source": [
    "ondas, lista = sig.calcFFT(sinal,fs)"
   ]
  },
  {
   "cell_type": "code",
   "execution_count": 73,
   "metadata": {},
   "outputs": [
    {
     "name": "stdout",
     "output_type": "stream",
     "text": [
      "[  0.00000000e+00   5.00050005e-01   1.00010001e+00 ...,   4.99899990e+03\n",
      "   4.99949995e+03   5.00000000e+03]\n"
     ]
    }
   ],
   "source": [
    "print(ondas)"
   ]
  },
  {
   "cell_type": "code",
   "execution_count": 74,
   "metadata": {},
   "outputs": [
    {
     "name": "stdout",
     "output_type": "stream",
     "text": [
      "[  3.89667465e-12   4.39712625e-05   8.79426333e-05 ...,   2.48709185e-02\n",
      "   2.48709166e-02   2.48709154e-02]\n"
     ]
    }
   ],
   "source": [
    "print(lista)"
   ]
  },
  {
   "cell_type": "code",
   "execution_count": 75,
   "metadata": {},
   "outputs": [
    {
     "data": {
      "image/png": "[encoded data removed]",
      "text/plain": [
       "<matplotlib.figure.Figure at 0x27f86fd6518>"
      ]
     },
     "metadata": {},
     "output_type": "display_data"
    }
   ],
   "source": [
    "sig.plotFFT(sinal,fs)"
   ]
  },
  {
   "cell_type": "code",
   "execution_count": null,
   "metadata": {
    "collapsed": true
   },
   "outputs": [],
   "source": []
  },
  {
   "cell_type": "code",
   "execution_count": null,
   "metadata": {
    "collapsed": true
   },
   "outputs": [],
   "source": []
  }
 ],
 "metadata": {
  "kernelspec": {
   "display_name": "Python 3",
   "language": "python",
   "name": "python3"
  },
  "language_info": {
   "codemirror_mode": {
    "name": "ipython",
    "version": 3
   },
   "file_extension": ".py",
   "mimetype": "text/x-python",
   "name": "python",
   "nbconvert_exporter": "python",
   "pygments_lexer": "ipython3",
   "version": "3.6.1"
  }
 },
 "nbformat": 4,
 "nbformat_minor": 2
}
