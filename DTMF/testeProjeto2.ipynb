{
 "cells": [
  {
   "cell_type": "code",
   "execution_count": 14,
   "metadata": {
    "collapsed": true
   },
   "outputs": [],
   "source": [
    "from signalTeste import *\n",
    "import numpy as np\n",
    "import sounddevice as sd\n",
    "import matplotlib.pyplot as plt\n",
    "#import wave\n",
    "import time\n",
    "#import pickle\n",
    "import peakutils\n",
    "from peakutils.plot import plot as pplot\n",
    "\n",
    "%matplotlib inline"
   ]
  },
  {
   "cell_type": "code",
   "execution_count": 48,
   "metadata": {},
   "outputs": [],
   "source": [
    "fs = 10000\n",
    "duration = 5  # seconds\n",
    "myrecording = sd.rec(int(duration * fs), samplerate=fs, channels=2)\n",
    "x = np.linspace(0, 120, 10000)\n"
   ]
  },
  {
   "cell_type": "code",
   "execution_count": 28,
   "metadata": {},
   "outputs": [
    {
     "name": "stdout",
     "output_type": "stream",
     "text": [
      "50000\n"
     ]
    }
   ],
   "source": [
    "print(len(x))\n"
   ]
  },
  {
   "cell_type": "code",
   "execution_count": 4,
   "metadata": {
    "collapsed": true
   },
   "outputs": [],
   "source": [
    "sd.play(myrecording, fs)"
   ]
  },
  {
   "cell_type": "code",
   "execution_count": 5,
   "metadata": {
    "collapsed": true
   },
   "outputs": [],
   "source": [
    "sig = signalMeu()\n",
    "freq1 = 1209\n",
    "freq2 = 1336\n",
    "freq3 = 1477\n",
    "freq4 = 697\n",
    "freq5 = 770\n",
    "freq6 = 852\n",
    "freq7 = 941\n",
    "amplitude = 0.5\n",
    "time = 2\n",
    "x, sinal1 = sig.generateSin(freq1, amplitude, time, fs)\n",
    "x, sinal2 = sig.generateSin(freq4, amplitude, time, fs)\n",
    "sinal = sinal1 + sinal2"
   ]
  },
  {
   "cell_type": "code",
   "execution_count": 6,
   "metadata": {},
   "outputs": [
    {
     "name": "stdout",
     "output_type": "stream",
     "text": [
      "[  0.00000000e+00   5.56389355e-01   8.83404861e-01 ...,  -8.83404861e-01\n",
      "  -5.56389355e-01   2.86339940e-13]\n"
     ]
    }
   ],
   "source": [
    "print(sinal)"
   ]
  },
  {
   "cell_type": "code",
   "execution_count": 13,
   "metadata": {
    "collapsed": true
   },
   "outputs": [],
   "source": [
    "sd.play(sinal, fs)"
   ]
  },
  {
   "cell_type": "code",
   "execution_count": null,
   "metadata": {
    "collapsed": true
   },
   "outputs": [],
   "source": [
    "ondas, lista = sig.calcFFT(sinal,fs)"
   ]
  },
  {
   "cell_type": "code",
   "execution_count": 9,
   "metadata": {},
   "outputs": [
    {
     "name": "stdout",
     "output_type": "stream",
     "text": [
      "[  0.00000000e+00   5.00050005e-01   1.00010001e+00 ...,   4.99899990e+03\n",
      "   4.99949995e+03   5.00000000e+03]\n"
     ]
    }
   ],
   "source": [
    "print(ondas)"
   ]
  },
  {
   "cell_type": "code",
   "execution_count": 10,
   "metadata": {
    "scrolled": true
   },
   "outputs": [
    {
     "name": "stdout",
     "output_type": "stream",
     "text": [
      "[  3.89667465e-12   4.39712625e-05   8.79426333e-05 ...,   2.48709185e-02\n",
      "   2.48709166e-02   2.48709154e-02]\n"
     ]
    }
   ],
   "source": [
    "print(lista)"
   ]
  },
  {
   "cell_type": "code",
   "execution_count": 11,
   "metadata": {},
   "outputs": [
    {
     "data": {
      "image/png": "[encoded data removed]",
      "text/plain": [
       "<matplotlib.figure.Figure at 0x273a03227b8>"
      ]
     },
     "metadata": {},
     "output_type": "display_data"
    }
   ],
   "source": [
    "sig.plotFFT(sinal,fs)"
   ]
  },
  {
   "cell_type": "code",
   "execution_count": 56,
   "metadata": {},
   "outputs": [
    {
     "name": "stdout",
     "output_type": "stream",
     "text": [
      "[1394 2418]\n",
      "[  697.06970697  1209.12091209] [ 2689.5219042  2668.691162 ]\n",
      "10000\n",
      "10000\n"
     ]
    },
    {
     "data": {
      "text/plain": [
       "<matplotlib.text.Text at 0x273a3244710>"
      ]
     },
     "execution_count": 56,
     "metadata": {},
     "output_type": "execute_result"
    },
    {
     "data": {
      "image/png": "[encoded data removed]",
      "text/plain": [
       "<matplotlib.figure.Figure at 0x273a31ef9e8>"
      ]
     },
     "metadata": {},
     "output_type": "display_data"
    }
   ],
   "source": [
    "indexes = peakutils.indexes(lista, thres=0.5, min_dist=30)\n",
    "print(indexes)\n",
    "print(ondas[indexes], lista[indexes])\n",
    "print(len(ondas))\n",
    "print(len(lista))\n",
    "#plt.figure(figsize=(10,6))\n",
    "pplot(ondas, lista, indexes)\n",
    "plt.title('First estimate')"
   ]
  },
  {
   "cell_type": "code",
   "execution_count": 57,
   "metadata": {},
   "outputs": [
    {
     "name": "stdout",
     "output_type": "stream",
     "text": [
      "[  697.10643377  1209.18463924]\n"
     ]
    }
   ],
   "source": [
    "peaks_x = peakutils.interpolate(ondas,lista, ind=indexes)\n",
    "print(peaks_x)"
   ]
  },
  {
   "cell_type": "code",
   "execution_count": 58,
   "metadata": {},
   "outputs": [
    {
     "ename": "ValueError",
     "evalue": "too many values to unpack (expected 1)",
     "output_type": "error",
     "traceback": [
      "\u001b[1;31m---------------------------------------------------------------------------\u001b[0m",
      "\u001b[1;31mValueError\u001b[0m                                Traceback (most recent call last)",
      "\u001b[1;32m<ipython-input-58-656a5694b4a9>\u001b[0m in \u001b[0;36m<module>\u001b[1;34m()\u001b[0m\n\u001b[1;32m----> 1\u001b[1;33m \u001b[0mindexes\u001b[0m \u001b[1;33m=\u001b[0m \u001b[0mpeakutils\u001b[0m\u001b[1;33m.\u001b[0m\u001b[0mindexes\u001b[0m\u001b[1;33m(\u001b[0m\u001b[0mmyrecording\u001b[0m\u001b[1;33m,\u001b[0m \u001b[0mthres\u001b[0m\u001b[1;33m=\u001b[0m\u001b[1;36m0.5\u001b[0m\u001b[1;33m,\u001b[0m \u001b[0mmin_dist\u001b[0m\u001b[1;33m=\u001b[0m\u001b[1;36m30\u001b[0m\u001b[1;33m)\u001b[0m\u001b[1;33m\u001b[0m\u001b[0m\n\u001b[0m\u001b[0;32m      2\u001b[0m \u001b[0mprint\u001b[0m\u001b[1;33m(\u001b[0m\u001b[0mindexes\u001b[0m\u001b[1;33m)\u001b[0m\u001b[1;33m\u001b[0m\u001b[0m\n",
      "\u001b[1;32mC:\\Users\\manucirne\\Anaconda3\\lib\\site-packages\\peakutils\\peak.py\u001b[0m in \u001b[0;36mindexes\u001b[1;34m(y, thres, min_dist, thres_abs)\u001b[0m\n\u001b[0;32m     47\u001b[0m \u001b[1;33m\u001b[0m\u001b[0m\n\u001b[0;32m     48\u001b[0m     \u001b[1;31m# propagate left and right values successively to fill all plateau pixels (0-value)\u001b[0m\u001b[1;33m\u001b[0m\u001b[1;33m\u001b[0m\u001b[0m\n\u001b[1;32m---> 49\u001b[1;33m     \u001b[0mzeros\u001b[0m\u001b[1;33m,\u001b[0m\u001b[1;33m=\u001b[0m\u001b[0mnp\u001b[0m\u001b[1;33m.\u001b[0m\u001b[0mwhere\u001b[0m\u001b[1;33m(\u001b[0m\u001b[0mdy\u001b[0m \u001b[1;33m==\u001b[0m \u001b[1;36m0\u001b[0m\u001b[1;33m)\u001b[0m\u001b[1;33m\u001b[0m\u001b[0m\n\u001b[0m\u001b[0;32m     50\u001b[0m \u001b[1;33m\u001b[0m\u001b[0m\n\u001b[0;32m     51\u001b[0m     \u001b[1;31m# check if the signal is totally flat\u001b[0m\u001b[1;33m\u001b[0m\u001b[1;33m\u001b[0m\u001b[0m\n",
      "\u001b[1;31mValueError\u001b[0m: too many values to unpack (expected 1)"
     ]
    }
   ],
   "source": [
    "indexes = peakutils.indexes(myrecording, thres=0.5, min_dist=30)\n",
    "print(indexes)"
   ]
  },
  {
   "cell_type": "code",
   "execution_count": null,
   "metadata": {
    "collapsed": true
   },
   "outputs": [],
   "source": []
  }
 ],
 "metadata": {
  "kernelspec": {
   "display_name": "Python 3",
   "language": "python",
   "name": "python3"
  },
  "language_info": {
   "codemirror_mode": {
    "name": "ipython",
    "version": 3
   },
   "file_extension": ".py",
   "mimetype": "text/x-python",
   "name": "python",
   "nbconvert_exporter": "python",
   "pygments_lexer": "ipython3",
   "version": "3.6.1"
  }
 },
 "nbformat": 4,
 "nbformat_minor": 2
}
