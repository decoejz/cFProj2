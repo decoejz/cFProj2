{
 "cells": [
  {
   "cell_type": "code",
   "execution_count": 14,
   "metadata": {
    "collapsed": true
   },
   "outputs": [],
   "source": [
    "from signalTeste import *\n",
    "import numpy as np\n",
    "import sounddevice as sd\n",
    "import matplotlib.pyplot as plt\n",
    "#import wave\n",
    "import time\n",
    "#import pickle\n",
    "import peakutils\n",
    "from peakutils.plot import plot as pplot\n",
    "\n",
    "%matplotlib inline"
   ]
  },
  {
   "cell_type": "code",
   "execution_count": 2,
   "metadata": {
    "collapsed": true
   },
   "outputs": [],
   "source": [
    "fs = 10000\n",
    "duration = 5  # seconds\n",
    "myrecording = sd.rec(int(duration * fs), samplerate=fs, channels=2)\n"
   ]
  },
  {
   "cell_type": "code",
   "execution_count": 3,
   "metadata": {},
   "outputs": [
    {
     "name": "stdout",
     "output_type": "stream",
     "text": [
      "[[  0.00000000e+00   0.00000000e+00]\n",
      " [ -3.05175781e-05   0.00000000e+00]\n",
      " [  0.00000000e+00   0.00000000e+00]\n",
      " ..., \n",
      " [  0.00000000e+00   0.00000000e+00]\n",
      " [  0.00000000e+00   0.00000000e+00]\n",
      " [  0.00000000e+00   0.00000000e+00]]\n"
     ]
    }
   ],
   "source": [
    "print(myrecording)"
   ]
  },
  {
   "cell_type": "code",
   "execution_count": 4,
   "metadata": {
    "collapsed": true
   },
   "outputs": [],
   "source": [
    "sd.play(myrecording, fs)"
   ]
  },
  {
   "cell_type": "code",
   "execution_count": 5,
   "metadata": {
    "collapsed": true
   },
   "outputs": [],
   "source": [
    "sig = signalMeu()\n",
    "freq1 = 1209\n",
    "freq2 = 1336\n",
    "freq3 = 1477\n",
    "freq4 = 697\n",
    "freq5 = 770\n",
    "freq6 = 852\n",
    "freq7 = 941\n",
    "amplitude = 0.5\n",
    "time = 2\n",
    "x, sinal1 = sig.generateSin(freq1, amplitude, time, fs)\n",
    "x, sinal2 = sig.generateSin(freq4, amplitude, time, fs)\n",
    "sinal = sinal1 + sinal2"
   ]
  },
  {
   "cell_type": "code",
   "execution_count": 6,
   "metadata": {},
   "outputs": [
    {
     "name": "stdout",
     "output_type": "stream",
     "text": [
      "[  0.00000000e+00   5.56389355e-01   8.83404861e-01 ...,  -8.83404861e-01\n",
      "  -5.56389355e-01   2.86339940e-13]\n"
     ]
    }
   ],
   "source": [
    "print(sinal)"
   ]
  },
  {
   "cell_type": "code",
   "execution_count": 13,
   "metadata": {
    "collapsed": true
   },
   "outputs": [],
   "source": [
    "sd.play(sinal, fs)"
   ]
  },
  {
   "cell_type": "code",
   "execution_count": null,
   "metadata": {
    "collapsed": true
   },
   "outputs": [],
   "source": [
    "ondas, lista = sig.calcFFT(sinal,fs)"
   ]
  },
  {
   "cell_type": "code",
   "execution_count": 9,
   "metadata": {},
   "outputs": [
    {
     "name": "stdout",
     "output_type": "stream",
     "text": [
      "[  0.00000000e+00   5.00050005e-01   1.00010001e+00 ...,   4.99899990e+03\n",
      "   4.99949995e+03   5.00000000e+03]\n"
     ]
    }
   ],
   "source": [
    "print(ondas)"
   ]
  },
  {
   "cell_type": "code",
   "execution_count": 10,
   "metadata": {},
   "outputs": [
    {
     "name": "stdout",
     "output_type": "stream",
     "text": [
      "[  3.89667465e-12   4.39712625e-05   8.79426333e-05 ...,   2.48709185e-02\n",
      "   2.48709166e-02   2.48709154e-02]\n"
     ]
    }
   ],
   "source": [
    "print(lista)"
   ]
  },
  {
   "cell_type": "code",
   "execution_count": 11,
   "metadata": {},
   "outputs": [
    {
     "data": {
      "image/png": "[encoded data removed]",
      "text/plain": [
       "<matplotlib.figure.Figure at 0x273a03227b8>"
      ]
     },
     "metadata": {},
     "output_type": "display_data"
    }
   ],
   "source": [
    "sig.plotFFT(sinal,fs)"
   ]
  },
  {
   "cell_type": "code",
   "execution_count": 18,
   "metadata": {},
   "outputs": [
    {
     "name": "stdout",
     "output_type": "stream",
     "text": [
      "[   18    60   118   176   234   291   333   391   449   506   548   606\n",
      "   664   721   763   821   879   937   994  1036  1094  1152  1209  1251\n",
      "  1309  1367  1424  1466  1524  1582  1640  1681  1739  1797  1855  1912\n",
      "  1954  2012  2070  2127  2169  2227  2285  2343  2384  2442  2500  2558\n",
      "  2615  2657  2715  2773  2830  2872  2930  2988  3046  3087  3145  3203\n",
      "  3261  3318  3360  3418  3476  3534  3575  3633  3691  3749  3790  3848\n",
      "  3906  3964  4005  4063  4121  4179  4237  4278  4336  4394  4452  4493\n",
      "  4551  4609  4667  4708  4766  4824  4882  4940  4981  5039  5097  5155\n",
      "  5196  5254  5312  5370  5411  5469  5527  5585  5643  5684  5742  5800\n",
      "  5858  5899  5957  6015  6073  6114  6172  6230  6288  6330  6387  6445\n",
      "  6503  6561  6602  6660  6718  6776  6818  6875  6933  6991  7033  7090\n",
      "  7148  7206  7264  7305  7363  7421  7479  7521  7578  7636  7694  7736\n",
      "  7793  7851  7909  7967  8008  8066  8124  8182  8224  8281  8339  8397\n",
      "  8439  8496  8554  8612  8670  8711  8769  8827  8885  8927  8984  9042\n",
      "  9100  9142  9199  9257  9315  9357  9414  9472  9530  9588  9630  9687\n",
      "  9745  9803  9845  9902  9960 10018 10060 10117 10175 10233 10291 10333\n",
      " 10390 10448 10506 10548 10605 10663 10721 10763 10820 10878 10936 10994\n",
      " 11036 11093 11151 11209 11251 11308 11366 11424 11466 11524 11581 11639\n",
      " 11681 11739 11796 11854 11912 11954 12011 12069 12127 12169 12227 12284\n",
      " 12342 12384 12442 12499 12557 12615 12657 12714 12772 12830 12872 12930\n",
      " 12987 13045 13087 13145 13202 13260 13318 13360 13417 13475 13533 13575\n",
      " 13633 13690 13748 13790 13848 13905 13963 14005 14063 14120 14178 14236\n",
      " 14278 14336 14393 14451 14493 14551 14608 14666 14708 14766 14823 14881\n",
      " 14939 14981 15039 15096 15154 15196 15254 15311 15369 15411 15469 15527\n",
      " 15584 15642 15684 15742 15799 15857 15899 15957 16014 16072 16114 16172\n",
      " 16230 16287 16329 16387 16445 16502 16560 16602 16660 16717 16775 16817\n",
      " 16875 16933 16990 17032 17090 17148 17205 17263 17305 17363 17420 17478\n",
      " 17520 17578 17636 17693 17735 17793 17851 17908 17966 18008 18066 18123\n",
      " 18181 18223 18281 18339 18396 18438 18496 18554 18611 18669 18711 18769\n",
      " 18826 18884 18926 18984 19042 19099 19141 19199 19257 19314 19356 19414\n",
      " 19472 19530 19587 19629 19687 19745 19802 19844 19902 19960 19992]\n"
     ]
    },
    {
     "ename": "NameError",
     "evalue": "name 'pyplot' is not defined",
     "output_type": "error",
     "traceback": [
      "\u001b[1;31m---------------------------------------------------------------------------\u001b[0m",
      "\u001b[1;31mNameError\u001b[0m                                 Traceback (most recent call last)",
      "\u001b[1;32m<ipython-input-18-ecac227e36e2>\u001b[0m in \u001b[0;36m<module>\u001b[1;34m()\u001b[0m\n\u001b[0;32m      1\u001b[0m \u001b[0mindexes\u001b[0m \u001b[1;33m=\u001b[0m \u001b[0mpeakutils\u001b[0m\u001b[1;33m.\u001b[0m\u001b[0mindexes\u001b[0m\u001b[1;33m(\u001b[0m\u001b[0msinal\u001b[0m\u001b[1;33m,\u001b[0m \u001b[0mthres\u001b[0m\u001b[1;33m=\u001b[0m\u001b[1;36m0.5\u001b[0m\u001b[1;33m,\u001b[0m \u001b[0mmin_dist\u001b[0m\u001b[1;33m=\u001b[0m\u001b[1;36m30\u001b[0m\u001b[1;33m)\u001b[0m\u001b[1;33m\u001b[0m\u001b[0m\n\u001b[0;32m      2\u001b[0m \u001b[0mprint\u001b[0m\u001b[1;33m(\u001b[0m\u001b[0mindexes\u001b[0m\u001b[1;33m)\u001b[0m\u001b[1;33m\u001b[0m\u001b[0m\n\u001b[1;32m----> 3\u001b[1;33m \u001b[0mpyplot\u001b[0m\u001b[1;33m.\u001b[0m\u001b[0mfigure\u001b[0m\u001b[1;33m(\u001b[0m\u001b[0mfigsize\u001b[0m\u001b[1;33m=\u001b[0m\u001b[1;33m(\u001b[0m\u001b[1;36m10\u001b[0m\u001b[1;33m,\u001b[0m\u001b[1;36m6\u001b[0m\u001b[1;33m)\u001b[0m\u001b[1;33m)\u001b[0m\u001b[1;33m\u001b[0m\u001b[0m\n\u001b[0m\u001b[0;32m      4\u001b[0m \u001b[0mpplot\u001b[0m\u001b[1;33m(\u001b[0m\u001b[0mfs\u001b[0m\u001b[1;33m,\u001b[0m \u001b[0msinal\u001b[0m\u001b[1;33m,\u001b[0m \u001b[0mindexes\u001b[0m\u001b[1;33m)\u001b[0m\u001b[1;33m\u001b[0m\u001b[0m\n\u001b[0;32m      5\u001b[0m \u001b[0mplt\u001b[0m\u001b[1;33m.\u001b[0m\u001b[0mtitle\u001b[0m\u001b[1;33m(\u001b[0m\u001b[1;34m'First estimate'\u001b[0m\u001b[1;33m)\u001b[0m\u001b[1;33m\u001b[0m\u001b[0m\n",
      "\u001b[1;31mNameError\u001b[0m: name 'pyplot' is not defined"
     ]
    }
   ],
   "source": [
    "indexes = peakutils.indexes(sinal, thres=0.5, min_dist=30)\n",
    "print(indexes)\n",
    "plt.figure(figsize=(10,6))\n",
    "pplot(fs, sinal, indexes)\n",
    "plt.title('First estimate')"
   ]
  },
  {
   "cell_type": "code",
   "execution_count": null,
   "metadata": {
    "collapsed": true
   },
   "outputs": [],
   "source": []
  }
 ],
 "metadata": {
  "kernelspec": {
   "display_name": "Python 3",
   "language": "python",
   "name": "python3"
  },
  "language_info": {
   "codemirror_mode": {
    "name": "ipython",
    "version": 3
   },
   "file_extension": ".py",
   "mimetype": "text/x-python",
   "name": "python",
   "nbconvert_exporter": "python",
   "pygments_lexer": "ipython3",
   "version": "3.6.1"
  }
 },
 "nbformat": 4,
 "nbformat_minor": 2
}
